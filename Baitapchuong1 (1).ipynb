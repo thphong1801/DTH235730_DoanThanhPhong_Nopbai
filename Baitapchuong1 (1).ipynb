{
  "nbformat": 4,
  "nbformat_minor": 0,
  "metadata": {
    "colab": {
      "provenance": []
    },
    "kernelspec": {
      "name": "python3",
      "display_name": "Python 3"
    },
    "language_info": {
      "name": "python"
    }
  },
  "cells": [
    {
      "cell_type": "code",
      "source": [],
      "metadata": {
        "id": "_ajc_8nldUxp"
      },
      "execution_count": null,
      "outputs": []
    },
    {
      "cell_type": "code",
      "execution_count": null,
      "metadata": {
        "colab": {
          "base_uri": "https://localhost:8080/"
        },
        "id": "EdQLOB9mSG7J",
        "outputId": "a24b08be-2c6b-4fc8-d846-7dac27a798fc"
      },
      "outputs": [
        {
          "output_type": "stream",
          "name": "stdout",
          "text": [
            "viết mã chương trình\n"
          ]
        }
      ],
      "source": [
        "print(\"viết mã chương trình\")"
      ]
    },
    {
      "cell_type": "code",
      "source": [
        "print('Hello word!')"
      ],
      "metadata": {
        "colab": {
          "base_uri": "https://localhost:8080/"
        },
        "id": "hBhelCEiSru1",
        "outputId": "03008099-919f-4aa4-eafe-a3fe1c333834"
      },
      "execution_count": null,
      "outputs": [
        {
          "output_type": "stream",
          "name": "stdout",
          "text": [
            "Hello word!\n"
          ]
        }
      ]
    },
    {
      "cell_type": "code",
      "source": [
        "if 5>2:\n",
        "     print('five is greater than two')"
      ],
      "metadata": {
        "colab": {
          "base_uri": "https://localhost:8080/"
        },
        "id": "CVGOvVWFTSNN",
        "outputId": "f3cebd55-9d3c-4234-ed3c-59bc90567e0e"
      },
      "execution_count": null,
      "outputs": [
        {
          "output_type": "stream",
          "name": "stdout",
          "text": [
            "five is greater than two\n"
          ]
        }
      ]
    },
    {
      "cell_type": "code",
      "source": [
        "total = 1+\\\n",
        "2+\\\n",
        "3\n",
        "print(total); print ('Hello python')"
      ],
      "metadata": {
        "colab": {
          "base_uri": "https://localhost:8080/"
        },
        "id": "rMJPrAN4TqSJ",
        "outputId": "7c81e658-a678-4060-971a-6f40910ff71b"
      },
      "execution_count": null,
      "outputs": [
        {
          "output_type": "stream",
          "name": "stdout",
          "text": [
            "6\n",
            "Hello python\n"
          ]
        }
      ]
    },
    {
      "cell_type": "code",
      "source": [],
      "metadata": {
        "id": "8PXSncopUDO-"
      },
      "execution_count": null,
      "outputs": []
    },
    {
      "cell_type": "code",
      "source": [
        "print ('Albert Einstein đã từng nói: một người không bao giờ mắc sai lầm không bao giờ thử bất kì điều gì mới.')"
      ],
      "metadata": {
        "colab": {
          "base_uri": "https://localhost:8080/"
        },
        "id": "Xn491brpUH8n",
        "outputId": "20ec0944-1b0d-4277-a9bd-1c0f803b2a24"
      },
      "execution_count": null,
      "outputs": [
        {
          "output_type": "stream",
          "name": "stdout",
          "text": [
            "Albert Einstein đã từng nói: một người không bao giờ mắc sai lầm không bao giờ thử bất kì điều gì mới.\n"
          ]
        }
      ]
    },
    {
      "cell_type": "code",
      "source": [
        "if True:\n",
        "  print('True')\n",
        "else:\n",
        "  print('False')"
      ],
      "metadata": {
        "colab": {
          "base_uri": "https://localhost:8080/"
        },
        "id": "_4BVvQD-UlvE",
        "outputId": "7236c972-487d-4ce6-9b90-20ba176aec04"
      },
      "execution_count": null,
      "outputs": [
        {
          "output_type": "stream",
          "name": "stdout",
          "text": [
            "True\n"
          ]
        }
      ]
    },
    {
      "cell_type": "code",
      "source": [
        "print ('Hello, World')"
      ],
      "metadata": {
        "colab": {
          "base_uri": "https://localhost:8080/"
        },
        "id": "hcvYxAlXU8GN",
        "outputId": "6a27f0b9-20f9-49e8-a00d-bf588df38fe4"
      },
      "execution_count": null,
      "outputs": [
        {
          "output_type": "stream",
          "name": "stdout",
          "text": [
            "Hello, World\n"
          ]
        }
      ]
    },
    {
      "cell_type": "code",
      "source": [
        "# module1.py\n",
        "module1_question = ' What is the meaning of Life, the Universe, and everything?'\n",
        "module1_answer =42\n",
        "\n",
        "# module2.py\n",
        "module2_question = 'What is your quest?'\n",
        "module2_answer ='To seek the holy grail.'\n",
        "\n",
        "print (module1_question)\n",
        "print (module2_question)\n",
        "print (module1_answer)\n",
        "print (module2_answer)"
      ],
      "metadata": {
        "colab": {
          "base_uri": "https://localhost:8080/"
        },
        "id": "YKOlZ7v5VHiS",
        "outputId": "fc9ea73e-33ff-469f-8303-1940308909e4"
      },
      "execution_count": null,
      "outputs": [
        {
          "output_type": "stream",
          "name": "stdout",
          "text": [
            " What is the meaning of Life, the Universe, and everything?\n",
            "What is your quest?\n",
            "42\n",
            "To seek the holy grail.\n"
          ]
        }
      ]
    },
    {
      "cell_type": "code",
      "source": [
        "print ('Chao cac ban')"
      ],
      "metadata": {
        "colab": {
          "base_uri": "https://localhost:8080/"
        },
        "id": "jo4i1Iv9YqYw",
        "outputId": "89766a68-5733-45dd-ace8-eaefc4a5eec9"
      },
      "execution_count": null,
      "outputs": [
        {
          "output_type": "stream",
          "name": "stdout",
          "text": [
            "Chao cac ban\n"
          ]
        }
      ]
    },
    {
      "cell_type": "code",
      "source": [
        "print ('Đoàn Thanh Phong ')"
      ],
      "metadata": {
        "colab": {
          "base_uri": "https://localhost:8080/"
        },
        "id": "fkGzsMceY2e-",
        "outputId": "769ce0ca-7f7f-4796-9a66-b4f6a1ef2dd2"
      },
      "execution_count": null,
      "outputs": [
        {
          "output_type": "stream",
          "name": "stdout",
          "text": [
            "Đoàn Thanh Phong \n"
          ]
        }
      ]
    },
    {
      "cell_type": "code",
      "source": [
        "print (' Mình về mình có nhớ ta?\\n Mười lăm năm ấy thiết tha mặng nồng \\n Mình về mình có nhớ không? \\n Nhìn cây nhớ núi nhìn sông nhớ nguồn.')"
      ],
      "metadata": {
        "colab": {
          "base_uri": "https://localhost:8080/"
        },
        "id": "7TcTTi-BY_t0",
        "outputId": "f9969764-a28d-4a23-b65e-1146085c8d1d"
      },
      "execution_count": null,
      "outputs": [
        {
          "output_type": "stream",
          "name": "stdout",
          "text": [
            " Mình về mình có nhớ ta?\n",
            " Mười lăm năm ấy thiết tha mặng nồng \n",
            " Mình về mình có nhớ không? \n",
            " Nhìn cây nhớ núi nhìn sông nhớ nguồn.\n"
          ]
        }
      ]
    },
    {
      "cell_type": "code",
      "source": [
        "print('* * * *\\n\\n*     *\\n\\n*     *\\n\\n* * * *')"
      ],
      "metadata": {
        "colab": {
          "base_uri": "https://localhost:8080/"
        },
        "id": "NIYiTx9rZsog",
        "outputId": "68cca49c-baff-4112-9bf7-3ff538ba5e14"
      },
      "execution_count": null,
      "outputs": [
        {
          "output_type": "stream",
          "name": "stdout",
          "text": [
            "* * * *\n",
            "\n",
            "*     *\n",
            "\n",
            "*     *\n",
            "\n",
            "* * * *\n"
          ]
        }
      ]
    },
    {
      "cell_type": "code",
      "source": [
        "print('**********\\n**********\\n**********\\n**********')"
      ],
      "metadata": {
        "colab": {
          "base_uri": "https://localhost:8080/"
        },
        "id": "cUDb9DUQaymp",
        "outputId": "290236fb-1f88-40b9-81c5-a728a5390c8d"
      },
      "execution_count": null,
      "outputs": [
        {
          "output_type": "stream",
          "name": "stdout",
          "text": [
            "**********\n",
            "**********\n",
            "**********\n",
            "**********\n"
          ]
        }
      ]
    },
    {
      "cell_type": "code",
      "source": [
        "print('     *     \\n    ***    \\n  *******  \\n    ***    \\n   *****   \\n***********\\n    * *    \\n    * *    ')"
      ],
      "metadata": {
        "colab": {
          "base_uri": "https://localhost:8080/"
        },
        "id": "k7h85l_xbNAM",
        "outputId": "9737f12a-7b36-44db-afbc-60621b6aa592"
      },
      "execution_count": null,
      "outputs": [
        {
          "output_type": "stream",
          "name": "stdout",
          "text": [
            "     *     \n",
            "    ***    \n",
            "  *******  \n",
            "    ***    \n",
            "   *****   \n",
            "***********\n",
            "    * *    \n",
            "    * *    \n"
          ]
        }
      ]
    }
  ]
}